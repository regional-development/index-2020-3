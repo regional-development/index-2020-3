{
 "cells": [
  {
   "cell_type": "code",
   "execution_count": 1,
   "metadata": {},
   "outputs": [],
   "source": [
    "import pandas as pd\n",
    "from src.utils import normalize_parameter, save_data\n",
    "from src.utils import PATH_RAW, PATH_INTERIM, POPULATION_MAP"
   ]
  },
  {
   "cell_type": "markdown",
   "metadata": {},
   "source": [
    "## p6_01\n",
    "### частка укладених декларацій про вибір лікаря, який надає первинну медичну допомогу відносно загальної кількості населення в області"
   ]
  },
  {
   "cell_type": "code",
   "execution_count": 2,
   "metadata": {},
   "outputs": [],
   "source": [
    "# df = pd.read_csv(PATH_RAW / \"P6\" / \"all-declarations-pmd.csv\")\n",
    "# df_P06_007 = (\n",
    "#     df\n",
    "#     .loc[df[\"division_area\"].ne(\"М.КИЇВ\")]\n",
    "#     .groupby(\"division_area\", as_index=False)[\"count_declarations\"].sum()\n",
    "#     .rename(columns={\"division_area\": \"region\"})\n",
    "# )\n",
    "# df_P06_007[\"region\"] = df_P06_007[\"region\"].str.title()\n",
    "# df_P06_007[\"population\"] = df_P06_007[\"region\"].map(POPULATION_MAP)\n",
    "# df_P06_007.to_csv(PATH_INTERIM / \"P6\" / \"P06_007.csv\", index=False)"
   ]
  },
  {
   "cell_type": "code",
   "execution_count": 3,
   "metadata": {},
   "outputs": [
    {
     "name": "stdout",
     "output_type": "stream",
     "text": [
      "feature_range=(0, 1); fill_na=True; array_bounds=(0.23008117080289645, 0.87601598085797); normalization_bounds=(0, 1)\n"
     ]
    }
   ],
   "source": [
    "df_P06_007 = pd.read_csv(PATH_INTERIM / \"P6\" / \"P06_007.csv\")\n",
    "df_P06_007['p6_01_raw'] = df_P06_007[\"count_declarations\"] / df_P06_007[\"population\"]\n",
    "df_P06_007['p6_01'] = normalize_parameter(df_P06_007[\"p6_01_raw\"], min_bound=0, max_bound=1)"
   ]
  },
  {
   "cell_type": "markdown",
   "metadata": {},
   "source": [
    "---"
   ]
  },
  {
   "cell_type": "markdown",
   "metadata": {},
   "source": [
    "## p6_02\n",
    "### рівень охоплення щепленнями відповідно до річного календаря профілактичних щеплень в Україні\n",
    "## p6_03\n",
    "### частка лікувально-профілактичних закладів, що мають статус некомерційних комунальних підприємств\n",
    "## p6_04\n",
    "### частка лікувально-профілактичних закладів, підключених до системи e-health\n",
    "## p6_09\n",
    "### частка кількість дітей віком від трьох до п’яти років, охоплених дошкільною освітою"
   ]
  },
  {
   "cell_type": "code",
   "execution_count": null,
   "metadata": {},
   "outputs": [],
   "source": []
  },
  {
   "cell_type": "markdown",
   "metadata": {},
   "source": [
    "---"
   ]
  },
  {
   "cell_type": "markdown",
   "metadata": {},
   "source": [
    "## p6_05\n",
    "### середній розмір класу у сільських закладах загальної середньої освіти (ЗЗСО)\n",
    "## p6_06\n",
    "### частка ЗЗСО, у яких навчається менше 100 учнів, за винятком ЗЗСО І та ІІІ ступеня\n",
    "## p6_07\n",
    "### кількість учнів, що навчаються індивідуально не за станом здоров’я"
   ]
  },
  {
   "cell_type": "code",
   "execution_count": null,
   "metadata": {},
   "outputs": [],
   "source": []
  },
  {
   "cell_type": "markdown",
   "metadata": {},
   "source": [
    "---"
   ]
  },
  {
   "cell_type": "markdown",
   "metadata": {},
   "source": [
    "## p6_08\n",
    "### частка ЗЗСО ІІ та/або ІІІ ступеня, у яких бракує профільних вчителів з двох чи більше предметів (української мови та літератури, історії, фізики, математики, основ інформатики, хімії, географії, біології)"
   ]
  },
  {
   "cell_type": "code",
   "execution_count": null,
   "metadata": {},
   "outputs": [],
   "source": []
  },
  {
   "cell_type": "markdown",
   "metadata": {},
   "source": [
    "---"
   ]
  },
  {
   "cell_type": "markdown",
   "metadata": {},
   "source": [
    "## Група 1: p6_01-p6_04, охорона здоров'я\n",
    "## Група 2: p6_05-p6_09, освіта"
   ]
  },
  {
   "cell_type": "code",
   "execution_count": null,
   "metadata": {},
   "outputs": [],
   "source": []
  }
 ],
 "metadata": {
  "kernelspec": {
   "display_name": "Python 3",
   "language": "python",
   "name": "python3"
  },
  "language_info": {
   "codemirror_mode": {
    "name": "ipython",
    "version": 3
   },
   "file_extension": ".py",
   "mimetype": "text/x-python",
   "name": "python",
   "nbconvert_exporter": "python",
   "pygments_lexer": "ipython3",
   "version": "3.8.5"
  }
 },
 "nbformat": 4,
 "nbformat_minor": 4
}
