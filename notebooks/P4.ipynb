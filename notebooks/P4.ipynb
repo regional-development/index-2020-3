{
 "cells": [
  {
   "cell_type": "markdown",
   "metadata": {},
   "source": [
    "# P4 (Містобудування, ЖКГ, побутове, торговельне обслуговування, транспорт і зв’язок): 2/6"
   ]
  },
  {
   "cell_type": "code",
   "execution_count": 1,
   "metadata": {},
   "outputs": [],
   "source": [
    "import pandas as pd\n",
    "from src.utils import normalize_parameter, save_data\n",
    "from src.utils import PATH_INTERIM"
   ]
  },
  {
   "cell_type": "markdown",
   "metadata": {},
   "source": [
    "---"
   ]
  },
  {
   "cell_type": "markdown",
   "metadata": {},
   "source": [
    "## p4_07\n",
    "### середній рівень будівельної готовності об'єктів Великого будівництва (за касовими видатками)\n",
    "## p4_08\n",
    "### середній рівень освоєння коштів, виділених на об'єкти Великого будівництва з усіх джерел"
   ]
  },
  {
   "cell_type": "code",
   "execution_count": 5,
   "metadata": {},
   "outputs": [],
   "source": [
    "df_P04_009 = pd.read_excel(PATH_INTERIM / \"P4\" / \"P04_009.xlsx\").rename(columns={\"Готовність за касовими видатками\": \"p4_07_raw\"})"
   ]
  },
  {
   "cell_type": "code",
   "execution_count": 8,
   "metadata": {},
   "outputs": [
    {
     "name": "stdout",
     "output_type": "stream",
     "text": [
      "feature_range=(0, 1); fill_na=True; array_bounds=(28.36363636363636, 79.0); normalization_bounds=(0, 1)\n",
      "feature_range=(0, 1); fill_na=True; array_bounds=(45.56682969760931, 94.26957544900422); normalization_bounds=(0, 1)\n"
     ]
    }
   ],
   "source": [
    "df_P04_009[\"p4_07\"] = normalize_parameter(df_P04_009[\"p4_07_raw\"], min_bound=0, max_bound=1)\n",
    "df_P04_009[\"p4_08\"] = normalize_parameter(df_P04_009[\"p4_08_raw\"], min_bound=0, max_bound=1)"
   ]
  }
 ],
 "metadata": {
  "kernelspec": {
   "display_name": "Python 3",
   "language": "python",
   "name": "python3"
  },
  "language_info": {
   "codemirror_mode": {
    "name": "ipython",
    "version": 3
   },
   "file_extension": ".py",
   "mimetype": "text/x-python",
   "name": "python",
   "nbconvert_exporter": "python",
   "pygments_lexer": "ipython3",
   "version": "3.8.5"
  }
 },
 "nbformat": 4,
 "nbformat_minor": 4
}
