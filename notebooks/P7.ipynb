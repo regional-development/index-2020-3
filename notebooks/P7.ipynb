{
 "cells": [
  {
   "cell_type": "markdown",
   "metadata": {},
   "source": [
    "# P7 (Соціальне забезпечення та соціальний захист населення): 1/5"
   ]
  },
  {
   "cell_type": "code",
   "execution_count": 1,
   "metadata": {},
   "outputs": [],
   "source": [
    "import pandas as pd\n",
    "from src.utils import normalize_parameter, save_data\n",
    "from src.utils import PATH_INTERIM"
   ]
  },
  {
   "cell_type": "markdown",
   "metadata": {},
   "source": [
    "## p7_01\n",
    "### кількість витрачених коштів на придбання технічних та інших засобів реабілітації у розрахунку на одну особу з інвалідністю"
   ]
  },
  {
   "cell_type": "code",
   "execution_count": 2,
   "metadata": {},
   "outputs": [
    {
     "name": "stdout",
     "output_type": "stream",
     "text": [
      "feature_range=(0, 1); fill_na=True; array_bounds=(0.0, 0.024266365688487584); normalization_bounds=(0.0, 0.024266365688487584)\n"
     ]
    }
   ],
   "source": [
    "df_P07_002 = pd.read_excel(PATH_INTERIM / \"P7\" / \"P07_002.xlsx\")\n",
    "df_P07_002[\"p7_01_raw\"] = (\n",
    "    df_P07_002[\"Кількість технічних засобів реабілітації\"] / \n",
    "    df_P07_002[\"Кількість осіб\"]\n",
    ")\n",
    "df_P07_002[\"p7_01\"] = normalize_parameter(df_P07_002[\"p7_01_raw\"])"
   ]
  }
 ],
 "metadata": {
  "kernelspec": {
   "display_name": "Python 3",
   "language": "python",
   "name": "python3"
  },
  "language_info": {
   "codemirror_mode": {
    "name": "ipython",
    "version": 3
   },
   "file_extension": ".py",
   "mimetype": "text/x-python",
   "name": "python",
   "nbconvert_exporter": "python",
   "pygments_lexer": "ipython3",
   "version": "3.8.5"
  }
 },
 "nbformat": 4,
 "nbformat_minor": 4
}
